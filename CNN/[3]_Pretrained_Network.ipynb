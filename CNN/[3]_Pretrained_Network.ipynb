{
  "nbformat": 4,
  "nbformat_minor": 0,
  "metadata": {
    "colab": {
      "provenance": [],
      "toc_visible": true,
      "gpuType": "T4",
      "authorship_tag": "ABX9TyO3p9hLpClU9NVuZGXkWhzf",
      "include_colab_link": true
    },
    "kernelspec": {
      "name": "python3",
      "display_name": "Python 3"
    },
    "language_info": {
      "name": "python"
    },
    "accelerator": "GPU"
  },
  "cells": [
    {
      "cell_type": "markdown",
      "metadata": {
        "id": "view-in-github",
        "colab_type": "text"
      },
      "source": [
        "<a href=\"https://colab.research.google.com/github/jetsonai/Working-R-Ssaem/blob/main/CNN/%5B3%5D_Pretrained_Network.ipynb\" target=\"_parent\"><img src=\"https://colab.research.google.com/assets/colab-badge.svg\" alt=\"Open In Colab\"/></a>"
      ]
    },
    {
      "cell_type": "markdown",
      "source": [
        "# **사전 학습된 모델을 활용한 추론 (Inference with Pretrained Network)**"
      ],
      "metadata": {
        "id": "VG5Bu-Kd9-jj"
      }
    },
    {
      "cell_type": "markdown",
      "source": [
        "## 1. 라이브러리 불러오기"
      ],
      "metadata": {
        "id": "EvASHmatLACE"
      }
    },
    {
      "cell_type": "code",
      "execution_count": null,
      "metadata": {
        "id": "MRcMh-6uKTSd"
      },
      "outputs": [],
      "source": [
        "import os\n",
        "\n",
        "from PIL import Image\n",
        "\n",
        "import torch\n",
        "from torch.utils.data import Dataset, DataLoader\n",
        "from torchvision import transforms\n",
        "\n",
        "from torchsummary import summary\n",
        "from tqdm import tqdm"
      ]
    },
    {
      "cell_type": "markdown",
      "source": [
        "## 2. Custom Dataloader 생성"
      ],
      "metadata": {
        "id": "caX_syK3LM0U"
      }
    },
    {
      "cell_type": "code",
      "source": [
        "########## Custom DataLoader ##########\n",
        "class PyTorchCustomDataset(Dataset):\n",
        "  def __init__(self, root_dir=\"cats_and_dogs_filtered/train\", transform=None):\n",
        "    self.image_abs_path = root_dir\n",
        "    self.transform = transform\n",
        "    self.label_list = os.listdir(self.image_abs_path)\n",
        "    self.label_list.sort()\n",
        "    self.x_list = []\n",
        "    self.y_list = []\n",
        "    for label_index, label_str in enumerate(self.label_list):\n",
        "      img_path = os.path.join(self.image_abs_path, label_str)\n",
        "      img_list = os.listdir(img_path)\n",
        "      for img in img_list:\n",
        "        self.x_list.append(os.path.join(img_path, img))\n",
        "        self.y_list.append(label_index)\n",
        "    pass\n",
        "\n",
        "  def __len__(self):\n",
        "    return len(self.x_list)\n",
        "\n",
        "  def __getitem__(self, idx):\n",
        "    image = Image.open(self.x_list[idx])\n",
        "    if image.mode != \"RGB\":\n",
        "      image = image.convert('RGB')\n",
        "    if self.transform is not None:\n",
        "      image = self.transform(image)\n",
        "    return image, torch.tensor(self.y_list[idx]).type(torch.LongTensor)\n",
        "\n",
        "  def __save_label_map__(self, dst_text_path=\"label_map.txt\"):\n",
        "    label_list = self.label_list\n",
        "    f = open(dst_text_path, 'w')\n",
        "    for i in range(len(label_list)):\n",
        "      f.write(label_list[i]+'\\n')\n",
        "    f.close()\n",
        "    pass\n",
        "\n",
        "  def __num_classes__(self):\n",
        "    return len(self.label_list)"
      ],
      "metadata": {
        "id": "ACxI_AumLBko"
      },
      "execution_count": null,
      "outputs": []
    },
    {
      "cell_type": "markdown",
      "source": [
        "## 3. 시험 데이터셋 다운로드"
      ],
      "metadata": {
        "id": "A3FJF87wLUhy"
      }
    },
    {
      "cell_type": "code",
      "source": [
        "!wget https://storage.googleapis.com/mledu-datasets/cats_and_dogs_filtered.zip\n",
        "!unzip -qq cats_and_dogs_filtered.zip"
      ],
      "metadata": {
        "id": "wmEXfyG3LT_H"
      },
      "execution_count": null,
      "outputs": []
    },
    {
      "cell_type": "markdown",
      "source": [
        "### 데이터셋 시각화"
      ],
      "metadata": {
        "id": "MggBY08s3PGv"
      }
    },
    {
      "cell_type": "code",
      "source": [
        "sample_cat = Image.open(\"/content/cats_and_dogs_filtered/validation/cats/cat.2000.jpg\")\n",
        "sample_dog = Image.open(\"/content/cats_and_dogs_filtered/validation/dogs/dog.2000.jpg\")"
      ],
      "metadata": {
        "id": "Kk9jV1sV3QOI"
      },
      "execution_count": null,
      "outputs": []
    },
    {
      "cell_type": "markdown",
      "source": [
        "#### 고양이"
      ],
      "metadata": {
        "id": "aaX4kiBk5jXC"
      }
    },
    {
      "cell_type": "code",
      "source": [
        "sample_cat"
      ],
      "metadata": {
        "id": "VQkX8d_I3Wf7"
      },
      "execution_count": null,
      "outputs": []
    },
    {
      "cell_type": "markdown",
      "source": [
        "#### 강아지"
      ],
      "metadata": {
        "id": "OW0iWFrM5lCg"
      }
    },
    {
      "cell_type": "code",
      "source": [
        "sample_dog"
      ],
      "metadata": {
        "id": "J54eTFHT3bX7"
      },
      "execution_count": null,
      "outputs": []
    },
    {
      "cell_type": "markdown",
      "source": [
        "## PyTorch Pretrained Models"
      ],
      "metadata": {
        "id": "BNh8y_yd3krV"
      }
    },
    {
      "cell_type": "markdown",
      "source": [
        "### ImageNet에 훈련된 모델 리스트\n",
        "*   https://docs.pytorch.org/vision/0.21/models.html\n",
        "\n",
        "\n"
      ],
      "metadata": {
        "id": "_zQBRPpE3ndk"
      }
    },
    {
      "cell_type": "markdown",
      "source": [
        "### 사전 학습된 모델 불러오기"
      ],
      "metadata": {
        "id": "ecBKYMHj3_MD"
      }
    },
    {
      "cell_type": "code",
      "source": [
        "from torchvision.models import alexnet, vgg16_bn, resnet50\n",
        "from torchvision.models import AlexNet_Weights, VGG16_BN_Weights, ResNet50_Weights"
      ],
      "metadata": {
        "id": "j24HQrR83cBx"
      },
      "execution_count": null,
      "outputs": []
    },
    {
      "cell_type": "code",
      "source": [
        "# Check Device\n",
        "device = \"cuda\" if torch.cuda.is_available() else \"cpu\"\n",
        "print(f\"Current Device : {device}\")"
      ],
      "metadata": {
        "id": "kOaeRUma4EbZ"
      },
      "execution_count": null,
      "outputs": []
    },
    {
      "cell_type": "markdown",
      "source": [
        "### 가중치 불러오기"
      ],
      "metadata": {
        "id": "n4mr9sCC4xpl"
      }
    },
    {
      "cell_type": "code",
      "source": [
        "model_alexnet = alexnet(AlexNet_Weights.DEFAULT)\n",
        "model_vgg16_bn = vgg16_bn(VGG16_BN_Weights.DEFAULT)\n",
        "model_resnet50 = resnet50(ResNet50_Weights.DEFAULT)"
      ],
      "metadata": {
        "id": "I5kRCo-o4I1X"
      },
      "execution_count": null,
      "outputs": []
    },
    {
      "cell_type": "code",
      "source": [
        "model_alexnet = model_alexnet.eval().to(device)\n",
        "model_vgg16_bn = model_vgg16_bn.eval().to(device)\n",
        "model_resnet50 = model_resnet50.eval().to(device)"
      ],
      "metadata": {
        "id": "xhA4HRWB4rjh"
      },
      "execution_count": null,
      "outputs": []
    },
    {
      "cell_type": "markdown",
      "source": [
        "### 모델 구조 시각화"
      ],
      "metadata": {
        "id": "OQIQ84fz41CS"
      }
    },
    {
      "cell_type": "code",
      "source": [
        "img_channels, img_size = 3, 224"
      ],
      "metadata": {
        "id": "ePiCOk-142wn"
      },
      "execution_count": null,
      "outputs": []
    },
    {
      "cell_type": "markdown",
      "source": [
        "#### AlexNet"
      ],
      "metadata": {
        "id": "ciQSBr-e4698"
      }
    },
    {
      "cell_type": "code",
      "source": [
        "summary(model_alexnet, (img_channels, img_size, img_size))"
      ],
      "metadata": {
        "id": "MeYYigd341-D"
      },
      "execution_count": null,
      "outputs": []
    },
    {
      "cell_type": "markdown",
      "source": [
        "#### VGG16 with Batch-Norm."
      ],
      "metadata": {
        "id": "1jLrpViO48GJ"
      }
    },
    {
      "cell_type": "code",
      "source": [
        "summary(model_vgg16_bn, (img_channels, img_size, img_size))"
      ],
      "metadata": {
        "id": "TLt7QF8_4-d7"
      },
      "execution_count": null,
      "outputs": []
    },
    {
      "cell_type": "markdown",
      "source": [
        "#### ResNet50"
      ],
      "metadata": {
        "id": "MAauPDYZ4_gp"
      }
    },
    {
      "cell_type": "code",
      "source": [
        "summary(model_resnet50, (img_channels, img_size, img_size))"
      ],
      "metadata": {
        "id": "-p3HVjwu5AkQ"
      },
      "execution_count": null,
      "outputs": []
    },
    {
      "cell_type": "markdown",
      "source": [
        "### Freeze Model Parameters"
      ],
      "metadata": {
        "id": "SiUsK7mE5FNH"
      }
    },
    {
      "cell_type": "code",
      "source": [
        "for p in model_alexnet.parameters() :\n",
        "  p.requires_grad = False\n",
        "\n",
        "summary(model_alexnet, (img_channels, img_size, img_size))"
      ],
      "metadata": {
        "id": "93YB2Pea5P2V"
      },
      "execution_count": null,
      "outputs": []
    },
    {
      "cell_type": "code",
      "source": [
        "for p in model_vgg16_bn.parameters() :\n",
        "  p.requires_grad = False\n",
        "\n",
        "summary(model_vgg16_bn, (img_channels, img_size, img_size))"
      ],
      "metadata": {
        "id": "q9av9h3W5UIz"
      },
      "execution_count": null,
      "outputs": []
    },
    {
      "cell_type": "code",
      "source": [
        "for p in model_resnet50.parameters() :\n",
        "  p.requires_grad = False\n",
        "\n",
        "summary(model_resnet50, (img_channels, img_size, img_size))"
      ],
      "metadata": {
        "id": "1zhC2TEn5UhB"
      },
      "execution_count": null,
      "outputs": []
    },
    {
      "cell_type": "markdown",
      "source": [
        "## 사전 학습된 모델을 활용한 추론 진행"
      ],
      "metadata": {
        "id": "JrtOlO_K56D7"
      }
    },
    {
      "cell_type": "code",
      "source": [
        "########## Inference Code ##########\n",
        "def inference(model, src=\"cats_and_dogs_filtered/validation\", img_size=224, img_channels=3) :\n",
        "  # Load Dataset\n",
        "  transform = transforms.Compose([transforms.Resize((img_size, img_size)),\n",
        "                                  transforms.ToTensor(),\n",
        "                                  transforms.Normalize(mean=[0.485, 0.456, 0.406],\n",
        "                                                        std=[0.229, 0.224, 0.225])]) # ImageNet의 RGB 통계량\n",
        "\n",
        "  # Create Custom Dataset Instance\n",
        "  test_dataset = PyTorchCustomDataset(src, transform)\n",
        "\n",
        "  # Create DataLoader\n",
        "  test_loader = DataLoader(test_dataset, batch_size=1, shuffle=False)\n",
        "\n",
        "  # Check Device\n",
        "  device = \"cuda\" if torch.cuda.is_available() else \"cpu\"\n",
        "  print(f\"Current Device : {device}\")\n",
        "\n",
        "  # Create Model Instance\n",
        "  model = model.eval().to(device)\n",
        "\n",
        "  # Summarize Model\n",
        "  summary(model, (img_channels, img_size, img_size))\n",
        "\n",
        "  # Create List Instance\n",
        "  cat_label_dict, dog_label_dict = {}, {}\n",
        "\n",
        "  # Inference\n",
        "  with torch.no_grad() :\n",
        "    # Create TQDM Bar Instance\n",
        "    test_bar = tqdm(test_loader)\n",
        "\n",
        "    for data in test_bar :\n",
        "      img, label = data\n",
        "      img = img.to(device)\n",
        "      pred = model(img)\n",
        "      pred = torch.argmax(pred, dim=-1).cpu().item()\n",
        "\n",
        "      if label == 0 : # 0 for Cat / 1 for Dog\n",
        "        if pred not in cat_label_dict.keys() :\n",
        "            cat_label_dict[pred] = 1\n",
        "        else :\n",
        "            cat_label_dict[pred] += 1\n",
        "      else :\n",
        "        if pred not in dog_label_dict.keys() :\n",
        "            dog_label_dict[pred] = 1\n",
        "        else :\n",
        "            dog_label_dict[pred] += 1\n",
        "\n",
        "      # Show Inference Status\n",
        "      test_bar.set_description(desc=f\"[Inference]\")\n",
        "\n",
        "  # Sort by Keys\n",
        "  cat_label_dict_sorted = sorted(cat_label_dict.items(), key=lambda x:x[1], reverse=True)\n",
        "  dog_label_dict_sorted = sorted(dog_label_dict.items(), key=lambda x:x[1], reverse=True)\n",
        "  print()\n",
        "  print(f\"Cat Predictions : {cat_label_dict_sorted}\")\n",
        "  print(f\"Dog Predictions : {dog_label_dict_sorted}\")"
      ],
      "metadata": {
        "id": "9CdN7tpP55B_"
      },
      "execution_count": null,
      "outputs": []
    },
    {
      "cell_type": "markdown",
      "source": [
        "### ImageNet Class Index (Number) List\n",
        "*   https://deeplearning.cms.waikato.ac.nz/user-guide/class-maps/IMAGENET/"
      ],
      "metadata": {
        "id": "M9so6Cjl6c2R"
      }
    },
    {
      "cell_type": "markdown",
      "source": [
        "### AlexNet"
      ],
      "metadata": {
        "id": "tcCmLjQ_7uFl"
      }
    },
    {
      "cell_type": "code",
      "source": [
        "inference(model_alexnet)"
      ],
      "metadata": {
        "id": "qVutBulE6jsq"
      },
      "execution_count": null,
      "outputs": []
    },
    {
      "cell_type": "markdown",
      "source": [
        "### VGG16 with Batch-Norm."
      ],
      "metadata": {
        "id": "Z-5D0s3S7xLR"
      }
    },
    {
      "cell_type": "code",
      "source": [
        "inference(model_vgg16_bn)"
      ],
      "metadata": {
        "id": "-9FZLae47SnB"
      },
      "execution_count": null,
      "outputs": []
    },
    {
      "cell_type": "markdown",
      "source": [
        "### ResNet50"
      ],
      "metadata": {
        "id": "_oWu8qsL70HG"
      }
    },
    {
      "cell_type": "code",
      "source": [
        "inference(model_resnet50)"
      ],
      "metadata": {
        "id": "O_KocpmV7TCb"
      },
      "execution_count": null,
      "outputs": []
    }
  ]
}